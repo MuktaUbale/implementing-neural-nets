{
 "cells": [
  {
   "cell_type": "markdown",
   "metadata": {},
   "source": [
    "### Imports\n"
   ]
  },
  {
   "cell_type": "code",
   "execution_count": 1,
   "metadata": {},
   "outputs": [
    {
     "ename": "ModuleNotFoundError",
     "evalue": "No module named 'numpy'",
     "output_type": "error",
     "traceback": [
      "\u001b[0;31m---------------------------------------------------------------------------\u001b[0m",
      "\u001b[0;31mModuleNotFoundError\u001b[0m                       Traceback (most recent call last)",
      "Cell \u001b[0;32mIn[1], line 1\u001b[0m\n\u001b[0;32m----> 1\u001b[0m \u001b[38;5;28;01mimport\u001b[39;00m \u001b[38;5;21;01mnumpy\u001b[39;00m \u001b[38;5;28;01mas\u001b[39;00m \u001b[38;5;21;01mnp\u001b[39;00m\n\u001b[1;32m      2\u001b[0m \u001b[38;5;28;01mimport\u001b[39;00m \u001b[38;5;21;01mmatplotlib\u001b[39;00m\u001b[38;5;21;01m.\u001b[39;00m\u001b[38;5;21;01mpyplot\u001b[39;00m \u001b[38;5;28;01mas\u001b[39;00m \u001b[38;5;21;01mplt\u001b[39;00m\n\u001b[1;32m      3\u001b[0m \u001b[38;5;28;01mimport\u001b[39;00m \u001b[38;5;21;01mseaborn\u001b[39;00m \u001b[38;5;28;01mas\u001b[39;00m \u001b[38;5;21;01msns\u001b[39;00m\n",
      "\u001b[0;31mModuleNotFoundError\u001b[0m: No module named 'numpy'"
     ]
    }
   ],
   "source": [
    "import numpy as np\n",
    "import matplotlib.pyplot as plt\n",
    "import seaborn as sns\n",
    "sns.set_style('darkgrid')"
   ]
  },
  {
   "cell_type": "markdown",
   "metadata": {},
   "source": [
    "### Richardson Iteration function"
   ]
  },
  {
   "cell_type": "code",
   "execution_count": null,
   "metadata": {},
   "outputs": [
    {
     "ename": "",
     "evalue": "",
     "output_type": "error",
     "traceback": [
      "\u001b[1;31mRunning cells with '/usr/bin/python3' requires the ipykernel package.\n",
      "\u001b[1;31mRun the following command to install 'ipykernel' into the Python environment. \n",
      "\u001b[1;31mCommand: '/usr/bin/python3 -m pip install ipykernel -U --user --force-reinstall'"
     ]
    }
   ],
   "source": [
    "def richardson_iter(x_guess, A, b, omega=0.1):\n",
    "    new_x_guess = x_guess + omega * (b - np.dot(A, x_guess))\n",
    "    return new_x_guess\n",
    "\n",
    "x_guess = np.matrix('0; 0; 0')\n",
    "for i in range(100):\n",
    "    x_guess = richardson_iter(x_guess, A, b)\n",
    "\n",
    "print(x_guess, x)\n"
   ]
  },
  {
   "cell_type": "code",
   "execution_count": null,
   "metadata": {},
   "outputs": [],
   "source": [
    "## Computing the error of given guess\n",
    "def error(x_guess, A, b):\n",
    "    err = np.square(np.linalg.norm(np.dot(A, x_guess) - b))\n",
    "    return err\n",
    "\n",
    "steps = list(range(100))\n",
    "errs = []\n",
    "\n",
    "# Error vs. step (running Richardson iteration for 100 steps)\n",
    "x_guess = np.matrix('0; 0; 0')\n",
    "for step in range(100):\n",
    "\n",
    "    x_guess = richardson_iter(x_guess, A, b)\n",
    "    errs += [error(x_guess, A, b)]\n",
    "\n",
    "plt.plot(steps, errs)\n",
    "plt.xlabel(\"Steps\")\n",
    "plt.ylabel(\"Error\")\n",
    "plt.show()"
   ]
  },
  {
   "cell_type": "markdown",
   "metadata": {},
   "source": [
    "### Scatterplot matrix for Iris Flower Dataset"
   ]
  },
  {
   "cell_type": "code",
   "execution_count": null,
   "metadata": {},
   "outputs": [],
   "source": [
    "import sklearn.datasets as datasets\n",
    "dataset = datasets.load_iris()\n",
    "features = dataset['data']\n",
    "targets = dataset['target'] # tells which species - use to color points in each plot\n",
    "feature_names = dataset['feature_names']\n",
    "target_names = dataset['target_names']\n",
    "targets = [target_names[t] for t in targets]\n",
    "\n",
    "fig, ax = plt.subplots(nrows = 4, ncols = 4, figsize=(12, 12), layout=\"constrained\")\n",
    "for i in range(4):\n",
    "    for j in range(4):\n",
    "        # Skip sub-plots on the diagonal\n",
    "        if i == j: \n",
    "            continue\n",
    "        else:\n",
    "            sns.scatterplot(ax = ax[i, j], x = features[:, i], y = features[:, j], hue = targets)\n"
   ]
  }
 ],
 "metadata": {
  "kernelspec": {
   "display_name": "Python 3",
   "language": "python",
   "name": "python3"
  },
  "language_info": {
   "codemirror_mode": {
    "name": "ipython",
    "version": 3
   },
   "file_extension": ".py",
   "mimetype": "text/x-python",
   "name": "python",
   "nbconvert_exporter": "python",
   "pygments_lexer": "ipython3",
   "version": "3.9.6"
  }
 },
 "nbformat": 4,
 "nbformat_minor": 2
}
