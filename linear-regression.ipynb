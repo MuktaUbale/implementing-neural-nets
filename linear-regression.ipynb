{
 "cells": [
  {
   "cell_type": "markdown",
   "metadata": {},
   "source": [
    "### Imports"
   ]
  },
  {
   "cell_type": "code",
   "execution_count": null,
   "metadata": {},
   "outputs": [],
   "source": [
    "import numpy as np\n",
    "import matplotlib.pyplot as plt\n",
    "import seaborn as sns\n",
    "sns.set_style('darkgrid')"
   ]
  },
  {
   "cell_type": "markdown",
   "metadata": {},
   "source": [
    "### Linear Regression Functions"
   ]
  },
  {
   "cell_type": "code",
   "execution_count": null,
   "metadata": {},
   "outputs": [],
   "source": [
    "def gradient_descent(value_and_grad, w0, lr, niter, *args):\n",
    "    # Get the inital loss\n",
    "    initial_loss, _ = value_and_grad(w0, *args)\n",
    "    losses = [initial_loss]\n",
    "    w = w0\n",
    "    \n",
    "    for n in range(niter):\n",
    "        loss, grad_w = value_and_grad(w, *args)\n",
    "        losses += [loss]\n",
    "        w = w - lr * grad_w\n",
    "        \n",
    "    return w, losses"
   ]
  },
  {
   "cell_type": "code",
   "execution_count": null,
   "metadata": {},
   "outputs": [],
   "source": [
    "def mse_and_grad(w, X, y):\n",
    "    mse = 0\n",
    "    Xaug = np.pad(X, [(0,0), (0,1)], constant_values=1.)\n",
    "    \n",
    "    mse = np.square(np.linalg.norm(np.dot(Xaug, w) - y)) / len(Xaug)\n",
    "    grad_w = 2 * np.dot(np.dot(Xaug, w) - y, Xaug) / len(Xaug) \n",
    "    \n",
    "    return mse, grad_w"
   ]
  },
  {
   "cell_type": "code",
   "execution_count": null,
   "metadata": {},
   "outputs": [],
   "source": [
    "def linear_regression(x, w):\n",
    "    pred = []\n",
    "    for row in x:\n",
    "        pred += [np.dot(np.transpose(row), w[:-1]) + w[-1]]\n",
    "    return pred"
   ]
  },
  {
   "cell_type": "markdown",
   "metadata": {},
   "source": [
    "#### Plotting prediction function"
   ]
  },
  {
   "cell_type": "code",
   "execution_count": null,
   "metadata": {},
   "outputs": [],
   "source": [
    "dataset_name = 'auto-mpg.csv'\n",
    "\n",
    "data = np.genfromtxt(dataset_name, delimiter=',', missing_values=['?'], filling_values=[0])\n",
    "\n",
    "# MPG is the output value\n",
    "target = 'MPG'\n",
    "y = data[:, 0]\n",
    "\n",
    "# The other variables are inputs in the order listed\n",
    "features = ['displacement', 'weight', 'acceleration', 'year']\n",
    "X = data[:, [2, 4, 5, 6]]\n",
    "X = (X - X.mean(axis=0)) / X.std(axis=0)\n",
    "\n",
    "Xweight = X[:, 1:2]\n",
    "w0 = np.zeros((2,))\n",
    "\n",
    "w, losses = gradient_descent(mse_and_grad, w0, 0.1, 100, Xweight, y)"
   ]
  },
  {
   "cell_type": "code",
   "execution_count": null,
   "metadata": {},
   "outputs": [],
   "source": [
    "x = np.linspace(1, 100, 100)\n",
    "plt.figure(figsize=(6, 4))\n",
    "plt.plot(x, losses[1:])\n",
    "\n",
    "plt.xlabel('Iteration')\n",
    "plt.ylabel(\"Loss (MSE)\")"
   ]
  },
  {
   "cell_type": "code",
   "execution_count": null,
   "metadata": {},
   "outputs": [],
   "source": [
    "plt.figure(figsize=(6, 4))\n",
    "\n",
    "x = np.linspace(-3, 3, 101)\n",
    "plt.scatter(Xweight, y, color = \"red\", s = 5)\n",
    "plt.plot(x, linear_regression(x, w), color = \"black\")\n",
    "\n",
    "plt.xlabel('Weights')\n",
    "plt.ylabel(\"MPG\")"
   ]
  },
  {
   "cell_type": "code",
   "execution_count": null,
   "metadata": {},
   "outputs": [],
   "source": [
    "### CODE TO SPLIT DATASET HERE \n",
    "Xall_train, Xall_test, y_train, y_test = train_test_split(X_all, y, test_size = 0.3, shuffle = True)\n",
    "\n",
    "### CODE TO FIT MODEL HERE\n",
    "w0 = np.zeros((5,))\n",
    "w_all_train, losses_all_train = gradient_descent(mse_and_grad, w0, 0.1, 100, Xall_train, y_train)\n",
    "w_all_test, losses_all_test = gradient_descent(mse_and_grad, w0, 0.1, 100, Xall_test, y_test)\n",
    "\n",
    "### CODE TO EVALUATE MODEL HERE\n",
    "mse_all_train = losses_all_train[-1]\n",
    "mse_all_test = losses_all_test[-1]\n",
    "\n",
    "print('Loss on training data: %.4f, loss on test data: %.4f' % (mse_all_train, m"
   ]
  },
  {
   "cell_type": "markdown",
   "metadata": {},
   "source": [
    "### Maximum Likelihood Training"
   ]
  },
  {
   "cell_type": "code",
   "execution_count": null,
   "metadata": {},
   "outputs": [],
   "source": [
    "# Comparing Normal and Laplace Distributions visually\n",
    "y = np.linspace(-3, 3, 200)\n",
    "mu, sigma2_or_a = 0, 1\n",
    "p_y_normal = (1 / np.sqrt(sigma2_or_a * 2 * np.pi)) * np.exp(- (0.5 / sigma2_or_a) * (y - mu) ** 2)\n",
    "p_y_laplace = (1 / (2 * sigma2_or_a)) * np.exp(- (1 / sigma2_or_a) * np.abs(y - mu))\n",
    "\n",
    "plt.figure(figsize=(4,3))\n",
    "plt.plot(y, p_y_normal, label=r\"Normal PDF\")\n",
    "plt.plot(y, p_y_laplace, label=r\"Laplace PDF\")\n",
    "plt.xlabel('$y$')\n",
    "plt.ylabel('$p(y)$')\n",
    "plt.legend()\n",
    "pass"
   ]
  },
  {
   "cell_type": "markdown",
   "metadata": {},
   "source": [
    "### Negative Log-Likelihood"
   ]
  },
  {
   "cell_type": "code",
   "execution_count": null,
   "metadata": {},
   "outputs": [],
   "source": [
    "def nll_and_grad(w, X, y):\n",
    "    N = X.shape[0]\n",
    "    Xaug = np.pad(X, [(0,0), (0,1)], constant_values=1.)\n",
    "\n",
    "    nll = 0\n",
    "    grad_w = 0\n",
    "\n",
    "    nll = np.sum(np.abs(y - np.dot(Xaug, w)))\n",
    "    grad_w = -1 * np.dot(np.sign(y - np.dot(Xaug, w)), Xaug)\n",
    "\n",
    "    nll = nll - N * np.log(2)\n",
    "    return nll / N, grad_w / N"
   ]
  },
  {
   "cell_type": "markdown",
   "metadata": {},
   "source": [
    "#### Plotting prediction function"
   ]
  },
  {
   "cell_type": "code",
   "execution_count": null,
   "metadata": {},
   "outputs": [],
   "source": [
    "dataset_name = 'auto-mpg.csv'\n",
    "\n",
    "data = np.genfromtxt(dataset_name, delimiter=',', missing_values=['?'], filling_values=[0])\n",
    "\n",
    "# MPG is the output value\n",
    "target = 'MPG'\n",
    "y = data[:, 0]\n",
    "\n",
    "# The other variables are inputs in the order listed\n",
    "features = ['displacement', 'weight', 'acceleration', 'year']\n",
    "X = data[:, [2, 4, 5, 6]]\n",
    "X = (X - X.mean(axis=0)) / X.std(axis=0)\n",
    "\n",
    "Xweight = X[:, 1:2]\n",
    "w0 = np.zeros((2,))\n",
    "\n",
    "w, losses = gradient_descent(nll_and_grad, w0, 0.1, 100, Xweight, y)"
   ]
  },
  {
   "cell_type": "code",
   "execution_count": null,
   "metadata": {},
   "outputs": [],
   "source": [
    "# NLL Loss as a function of number of updates\n",
    "x = np.linspace(1, 100, 100)\n",
    "plt.figure(figsize=(6, 4))\n",
    "plt.plot(x, losses_laplace[1:])\n",
    "\n",
    "plt.xlabel(\"Weights\")\n",
    "plt.ylabel(\"Loss (NLL)\")\n",
    "print(losses_laplace[-1])"
   ]
  },
  {
   "cell_type": "code",
   "execution_count": null,
   "metadata": {},
   "outputs": [],
   "source": [
    "# Scatterplot of weight vs. MPG w/ NLL and MSE loss\n",
    "Xweight = X[:, 1:2]\n",
    "\n",
    "w0_mse = np.zeros((2,))\n",
    "w_mse, losses_mse = gradient_descent(mse_and_grad, w0_mse, 0.1, 100, Xweight, y)\n",
    "\n",
    "w0_nll = np.zeros((2,))\n",
    "w_nll, losses_nll = gradient_descent(nll_and_grad, w0_nll, 1.0, 100, Xweight, y)\n",
    "\n",
    "plt.figure(figsize=(6, 4))\n",
    "\n",
    "x = np.linspace(-3, 3, 100)\n",
    "plt.scatter(Xweight, y, color = \"red\", s = 5)\n",
    "plt.plot(x, linear_regression(x, w_mse), color = \"blue\") \n",
    "plt.plot(x, linear_regression(x, w_nll), color = \"black\") \n",
    "\n",
    "plt.xlabel('Weights')\n",
    "plt.ylabel(\"MPG\")"
   ]
  }
 ],
 "metadata": {
  "language_info": {
   "name": "python"
  }
 },
 "nbformat": 4,
 "nbformat_minor": 2
}
